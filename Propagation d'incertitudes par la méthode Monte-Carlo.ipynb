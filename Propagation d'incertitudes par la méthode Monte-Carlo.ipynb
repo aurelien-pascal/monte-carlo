{
 "cells": [
  {
   "cell_type": "markdown",
   "id": "03d5ef93",
   "metadata": {},
   "source": [
    "# Propagation des incertitudes par la méthode de Monte-Carlo"
   ]
  },
  {
   "cell_type": "markdown",
   "id": "4dc67516",
   "metadata": {},
   "source": [
    "On dispose de mesures pour deux valeurs physiques : $X = X_{\\text{mes}} \\pm u(X)$ et $Y = Y_{\\text{mes}} \\pm u(Y)$.\n",
    "\n",
    "On cherche à calculer la grandeur $Z = f(X,Y)$ où $f$ est une fonction quelconque, et on veut l'incertitude $u(Z)$, l'objectif étant de noter le résultat sous la forme $Z = Z_{\\text{mes}} \\pm u(Z)$.\n",
    "\n",
    "La valeur $Z_{\\text{mes}}$ se calcule évidement simplement à l'aide de la fonction $f$ : $$ Z_{\\text{mes}} = f( X_{\\text{mes}} , Y_{\\text{mes}} ) $$ mais l'obtention de l'incertitude est plus complexe..."
   ]
  },
  {
   "cell_type": "markdown",
   "id": "d0a48e05",
   "metadata": {},
   "source": [
    "#### Principe de la méthode\n",
    "La principe de la méthode est le suivant :\n",
    "* on simule des résultats d'expérience en tirant au hasard $N$ valeurs possibles pour $X$ et $Y$, notées $\\lbrace X_1, ...  , X_n \\rbrace$ et $\\lbrace Y_1, ... Y_N \\rbrace$ à l'aide d'un générateur de nombres aléatoires\n",
    "* pour chaque couple $(X_i,Y_i)$ obtenu, on calcule la valeur de $Z_i = f(X_i,Y_i)$\n",
    "* on calcule l'écart-type sur la série statistique $\\lbrace Z_1 , ... , Z_n \\rbrace$"
   ]
  },
  {
   "cell_type": "markdown",
   "id": "88006392",
   "metadata": {},
   "source": [
    "##### Importation des modules utiles"
   ]
  },
  {
   "cell_type": "code",
   "execution_count": 1,
   "id": "f45d21ee",
   "metadata": {},
   "outputs": [],
   "source": [
    "import numpy as np\n",
    "import matplotlib.pyplot as plt"
   ]
  },
  {
   "cell_type": "markdown",
   "id": "640239bc",
   "metadata": {},
   "source": [
    "#### Choix du nombre de tirages"
   ]
  },
  {
   "cell_type": "code",
   "execution_count": 2,
   "id": "15dba7bc",
   "metadata": {},
   "outputs": [],
   "source": [
    "N_tirages = 10000"
   ]
  },
  {
   "cell_type": "markdown",
   "id": "b8ed1c5d",
   "metadata": {},
   "source": [
    "## 1-Tirage aléatoire des $\\lbrace X_1 , ... X_n \\rbrace$"
   ]
  },
  {
   "cell_type": "markdown",
   "id": "c5636024",
   "metadata": {},
   "source": [
    "On commence par définir les paramètres $X_{\\text{mes}}$ et $u(X)$ :"
   ]
  },
  {
   "cell_type": "code",
   "execution_count": 3,
   "id": "ba286d71",
   "metadata": {},
   "outputs": [],
   "source": [
    "X_mes = 10\n",
    "uX = 1"
   ]
  },
  {
   "cell_type": "markdown",
   "id": "19fdddfb",
   "metadata": {},
   "source": [
    "On réalise le tirage aléatoire par une loi normale et on l'enregistre dans un tableau X"
   ]
  },
  {
   "cell_type": "code",
   "execution_count": 4,
   "id": "24fc187d",
   "metadata": {},
   "outputs": [
    {
     "name": "stdout",
     "output_type": "stream",
     "text": [
      "[ 8.74717968  8.41559089  9.02451245 ...  8.07571077 10.079152\n",
      "  7.9138589 ]\n"
     ]
    }
   ],
   "source": [
    "X = np.random.normal(X_mes, uX, size=N_tirages)\n",
    "print(X)"
   ]
  },
  {
   "cell_type": "markdown",
   "id": "ffa0ea57",
   "metadata": {},
   "source": [
    "On affiche un histogramme des valeurs pour vérification graphique"
   ]
  },
  {
   "cell_type": "code",
   "execution_count": 5,
   "id": "96c3b66c",
   "metadata": {},
   "outputs": [
    {
     "data": {
      "image/png": "[encoded data removed]",
      "text/plain": [
       "<Figure size 432x288 with 1 Axes>"
      ]
     },
     "metadata": {
      "needs_background": "light"
     },
     "output_type": "display_data"
    }
   ],
   "source": [
    "plt.hist(X, bins=30)\n",
    "plt.xlabel('X')\n",
    "plt.ylabel('Nombre de tirages')\n",
    "plt.show()"
   ]
  },
  {
   "cell_type": "markdown",
   "id": "01d64b20",
   "metadata": {},
   "source": [
    "On peut vérifier que la moyenne et l'écart-type sont corrects :"
   ]
  },
  {
   "cell_type": "code",
   "execution_count": 6,
   "id": "8c64817a",
   "metadata": {},
   "outputs": [
    {
     "name": "stdout",
     "output_type": "stream",
     "text": [
      "Moyenne des X :  10.005094460939624\n",
      "Écart-type des X :  0.9911473108606683\n"
     ]
    }
   ],
   "source": [
    "print(\"Moyenne des X : \", np.mean(X) )\n",
    "print(\"Écart-type des X : \", np.std(X,ddof=1) )"
   ]
  },
  {
   "cell_type": "markdown",
   "id": "2b2be2fd",
   "metadata": {},
   "source": [
    "## 2-Tirage aléatoire des $\\lbrace Y_1 , ... Y_n \\rbrace$"
   ]
  },
  {
   "cell_type": "markdown",
   "id": "32da4d7d",
   "metadata": {},
   "source": [
    "On commence par définir les paramètres $Y_{\\text{mes}}$ et $u(Y)$ :"
   ]
  },
  {
   "cell_type": "code",
   "execution_count": 7,
   "id": "96a23773",
   "metadata": {},
   "outputs": [],
   "source": [
    "Y_mes = 50\n",
    "uY = 2"
   ]
  },
  {
   "cell_type": "markdown",
   "id": "6f9581f9",
   "metadata": {},
   "source": [
    "On réalise le tirage aléatoire par une loi normale et on l'enregistre dans un tableau X"
   ]
  },
  {
   "cell_type": "code",
   "execution_count": 8,
   "id": "7cb5a4d4",
   "metadata": {},
   "outputs": [
    {
     "name": "stdout",
     "output_type": "stream",
     "text": [
      "[50.02748443 52.3619343  47.57008472 ... 47.61017073 49.9344913\n",
      " 45.02745798]\n"
     ]
    }
   ],
   "source": [
    "Y = np.random.normal(Y_mes, uY, size=N_tirages)\n",
    "print(Y)"
   ]
  },
  {
   "cell_type": "markdown",
   "id": "7a5836fa",
   "metadata": {},
   "source": [
    "On affiche un histogramme des valeurs pour vérification graphique"
   ]
  },
  {
   "cell_type": "code",
   "execution_count": 9,
   "id": "b83d31f6",
   "metadata": {},
   "outputs": [
    {
     "data": {
      "image/png": "[encoded data removed]",
      "text/plain": [
       "<Figure size 432x288 with 1 Axes>"
      ]
     },
     "metadata": {
      "needs_background": "light"
     },
     "output_type": "display_data"
    }
   ],
   "source": [
    "plt.hist(Y, bins=30)\n",
    "plt.xlabel('Y')\n",
    "plt.ylabel('Nombre de tirages')\n",
    "plt.show()"
   ]
  },
  {
   "cell_type": "markdown",
   "id": "53911d45",
   "metadata": {},
   "source": [
    "On peut vérifier que la moyenne et l'écart-type sont corrects :"
   ]
  },
  {
   "cell_type": "code",
   "execution_count": 10,
   "id": "b2a0fd73",
   "metadata": {},
   "outputs": [
    {
     "name": "stdout",
     "output_type": "stream",
     "text": [
      "Moyenne des Y :  50.01936537436627\n",
      "Écart-type des Y :  2.016803298110922\n"
     ]
    }
   ],
   "source": [
    "print(\"Moyenne des Y : \", np.mean(Y) )\n",
    "print(\"Écart-type des Y : \", np.std(Y,ddof=1) )"
   ]
  },
  {
   "cell_type": "markdown",
   "id": "2dc36e46",
   "metadata": {},
   "source": [
    "## 3-Calcul des $\\lbrace Z_1, ... , Z_n \\rbrace$ et analyse statistique"
   ]
  },
  {
   "cell_type": "code",
   "execution_count": 11,
   "id": "dd3e6f43",
   "metadata": {},
   "outputs": [
    {
     "name": "stdout",
     "output_type": "stream",
     "text": [
      "[437.59939521 440.65661704 429.29682161 ... 384.4859686  503.29732787\n",
      " 356.34094927]\n"
     ]
    }
   ],
   "source": [
    "Z = X * Y\n",
    "print(Z)\n",
    "\n",
    "# REMARQUE IMPORTANTE :\n",
    "# le calcul sur les tableaux numpy est vectorisé, ce qui signifie qu'écrire Z = X * Y\n",
    "# revient exactement à écrire la boucle suivante :\n",
    "# for i in range(N_tirages):\n",
    "#      Z[i] = X[i] * Y[i]\n",
    "\n",
    "# l'autre avantage est qu'il n'y a pas besoin de créer le tableau Z en avance, le programme devine sa taille\n",
    "\n",
    "# Ces tableaux, contrairement aux tableaux python de base, sont faits pour le calcul scientifique et IL FAUT S'EN SERVIR"
   ]
  },
  {
   "cell_type": "markdown",
   "id": "681b952e",
   "metadata": {},
   "source": [
    "Affichage d'un histogramme des valeurs obtenues pour $Z$ :"
   ]
  },
  {
   "cell_type": "code",
   "execution_count": 12,
   "id": "2f48557b",
   "metadata": {},
   "outputs": [
    {
     "data": {
      "image/png": "[encoded data removed]",
      "text/plain": [
       "<Figure size 432x288 with 1 Axes>"
      ]
     },
     "metadata": {
      "needs_background": "light"
     },
     "output_type": "display_data"
    }
   ],
   "source": [
    "plt.hist(Z, bins=30)\n",
    "plt.xlabel('Z')\n",
    "plt.ylabel('Nombre de tirages')\n",
    "plt.show()"
   ]
  },
  {
   "cell_type": "markdown",
   "id": "3a2f4cbf",
   "metadata": {},
   "source": [
    "Résultats statistiques"
   ]
  },
  {
   "cell_type": "code",
   "execution_count": 13,
   "id": "09bfc5af",
   "metadata": {},
   "outputs": [
    {
     "name": "stdout",
     "output_type": "stream",
     "text": [
      "Moyenne des Z :  500.4221220088517\n",
      "Écart-type des Z :  53.33244918998396\n"
     ]
    }
   ],
   "source": [
    "print(\"Moyenne des Z : \", np.mean(Z) )\n",
    "print(\"Écart-type des Z : \", np.std(Z,ddof=1) )"
   ]
  },
  {
   "cell_type": "markdown",
   "id": "bf16049f",
   "metadata": {},
   "source": [
    "### Vérification par le calcul théorique"
   ]
  },
  {
   "cell_type": "markdown",
   "id": "940a507d",
   "metadata": {},
   "source": [
    "Pour une somme $Z = X+Y$ on doit avoir $u(Z) = \\sqrt{ u(X)^2 + u(Y)^2 }$"
   ]
  },
  {
   "cell_type": "code",
   "execution_count": 14,
   "id": "2866f38c",
   "metadata": {},
   "outputs": [
    {
     "name": "stdout",
     "output_type": "stream",
     "text": [
      "2.23606797749979\n"
     ]
    }
   ],
   "source": [
    "print( ( uX**2 + uY**2 )**0.5 )"
   ]
  },
  {
   "cell_type": "markdown",
   "id": "a810c56b",
   "metadata": {},
   "source": [
    "Pour un produit $Z = X*Y$ on doit avoir $u(Z) = Z * \\sqrt{ \\left(\\frac{u(X)}{X} \\right)^2 + \\left(\\frac{u(Y)}{Y} \\right)^2 }  $"
   ]
  },
  {
   "cell_type": "code",
   "execution_count": 15,
   "id": "d1c789cc",
   "metadata": {},
   "outputs": [
    {
     "name": "stdout",
     "output_type": "stream",
     "text": [
      "53.85164807134505\n"
     ]
    }
   ],
   "source": [
    "print( X_mes*Y_mes * ( (uX/X_mes)**2 + (uY/Y_mes)**2 )**0.5 )"
   ]
  }
 ],
 "metadata": {
  "kernelspec": {
   "display_name": "Python 3 (ipykernel)",
   "language": "python",
   "name": "python3"
  },
  "language_info": {
   "codemirror_mode": {
    "name": "ipython",
    "version": 3
   },
   "file_extension": ".py",
   "mimetype": "text/x-python",
   "name": "python",
   "nbconvert_exporter": "python",
   "pygments_lexer": "ipython3",
   "version": "3.10.4"
  }
 },
 "nbformat": 4,
 "nbformat_minor": 5
}
